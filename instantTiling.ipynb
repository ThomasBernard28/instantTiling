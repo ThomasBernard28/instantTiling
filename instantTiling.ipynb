{
 "cells": [
  {
   "cell_type": "code",
   "execution_count": 31,
   "metadata": {},
   "outputs": [],
   "source": [
    "import subprocess\n",
    "import altair as alt\n",
    "import pandas as pd"
   ]
  },
  {
   "cell_type": "code",
   "execution_count": 32,
   "metadata": {},
   "outputs": [],
   "source": [
    "# In order to run clingo command in the terminal and capture the output\n",
    "def run_clingo(puzzle):\n",
    "    result = subprocess.run(['clingo', puzzle, 'program.lp', '--stats'], \n",
    "                            capture_output=True, text=True)\n",
    "    output = result.stdout\n",
    "    return output"
   ]
  },
  {
   "cell_type": "code",
   "execution_count": 33,
   "metadata": {},
   "outputs": [],
   "source": [
    "def analyze_output(output):\n",
    "    lines = output.split('\\n')\n",
    "    stats = {}\n",
    "    for line in lines:\n",
    "        if \"CPU Time\" in line:\n",
    "            stats[\"time\"] = float((line.split(\":\")[1].strip()).split(\"s\")[0])\n",
    "        elif \"Rules\" in line:\n",
    "            stats[\"rules\"] = int((line.split(\":\")[1].strip()).split(\" \")[0])\n",
    "        elif \"Atoms\" in line:\n",
    "            stats[\"atoms\"] = int((line.split(\":\")[1].strip()).split(\" \")[0])\n",
    "\n",
    "    return stats"
   ]
  },
  {
   "cell_type": "code",
   "execution_count": 34,
   "metadata": {},
   "outputs": [],
   "source": [
    "def classify_puzzle(stats):\n",
    "    if stats[\"time\"] < 1 and stats[\"atoms\"] < 3000:\n",
    "        return \"Very easy\"\n",
    "    elif stats[\"time\"] < 2:\n",
    "        return \"Easy\"\n",
    "    elif stats[\"atoms\"] < 6000:\n",
    "        return \"Medium\"\n",
    "    elif stats[\"atoms\"] < 10000:\n",
    "        return \"Hard\"\n",
    "    else:\n",
    "        return \"Harder\""
   ]
  },
  {
   "cell_type": "code",
   "execution_count": 35,
   "metadata": {},
   "outputs": [],
   "source": [
    "def analyze_puzzles(puzzles):\n",
    "    results = []\n",
    "    for puzzle in puzzles:\n",
    "        output = run_clingo(puzzle)\n",
    "        stats = analyze_output(output)\n",
    "        difficulty = classify_puzzle(stats)\n",
    "        stats[\"difficulty\"] = difficulty\n",
    "        stats[\"puzzle\"] = puzzle\n",
    "        results.append(stats)\n",
    "\n",
    "    return results"
   ]
  },
  {
   "cell_type": "code",
   "execution_count": 36,
   "metadata": {},
   "outputs": [
    {
     "name": "stdout",
     "output_type": "stream",
     "text": [
      "   time  rules  atoms difficulty      puzzle\n",
      "0   0.1  96850   2909  Very easy  program.db\n"
     ]
    }
   ],
   "source": [
    "puzzles = [\"program.db\"]\n",
    "puzzles_results = analyze_puzzles(puzzles)\n",
    "df = pd.DataFrame(puzzles_results)\n",
    "print(df)"
   ]
  }
 ],
 "metadata": {
  "kernelspec": {
   "display_name": ".venv",
   "language": "python",
   "name": "python3"
  },
  "language_info": {
   "codemirror_mode": {
    "name": "ipython",
    "version": 3
   },
   "file_extension": ".py",
   "mimetype": "text/x-python",
   "name": "python",
   "nbconvert_exporter": "python",
   "pygments_lexer": "ipython3",
   "version": "3.12.3"
  }
 },
 "nbformat": 4,
 "nbformat_minor": 2
}
