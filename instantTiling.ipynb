{
 "cells": [
  {
   "cell_type": "code",
   "execution_count": 43,
   "metadata": {},
   "outputs": [],
   "source": [
    "import subprocess\n",
    "import altair as alt\n",
    "import pandas as pd"
   ]
  },
  {
   "cell_type": "code",
   "execution_count": 44,
   "metadata": {},
   "outputs": [],
   "source": [
    "# In order to run clingo command in the terminal and capture the output\n",
    "def run_clingo(puzzle):\n",
    "    result = subprocess.run(['clingo', \"instances/\"+puzzle, 'programs/programNonOpt.lp', '--stats'], \n",
    "                            capture_output=True, text=True)\n",
    "    output = result.stdout\n",
    "    return output"
   ]
  },
  {
   "cell_type": "code",
   "execution_count": 45,
   "metadata": {},
   "outputs": [],
   "source": [
    "def analyze_output(output):\n",
    "    lines = output.split('\\n')\n",
    "    stats = {}\n",
    "    for line in lines:\n",
    "        if \"CPU Time\" in line:\n",
    "            stats[\"time\"] = float((line.split(\":\")[1].strip()).split(\"s\")[0])\n",
    "        elif \"Rules\" in line:\n",
    "            stats[\"rules\"] = int((line.split(\":\")[1].strip()).split(\" \")[0])\n",
    "        elif \"Atoms\" in line:\n",
    "            stats[\"atoms\"] = int((line.split(\":\")[1].strip()).split(\" \")[0])\n",
    "\n",
    "    return stats"
   ]
  },
  {
   "cell_type": "code",
   "execution_count": 46,
   "metadata": {},
   "outputs": [],
   "source": [
    "def classify_puzzle(stats):\n",
    "    if stats[\"time\"] < 0.2:\n",
    "        return \"Very easy\"\n",
    "    elif stats[\"time\"] < 0.5:\n",
    "        return \"Easy\"\n",
    "    elif stats[\"time\"] < 1:\n",
    "        return \"Medium\"\n",
    "    elif stats[\"time\"] < 2:\n",
    "        return \"Hard\"\n",
    "    else:\n",
    "        return \"Harder\""
   ]
  },
  {
   "cell_type": "code",
   "execution_count": 47,
   "metadata": {},
   "outputs": [],
   "source": [
    "def analyze_puzzles(puzzles):\n",
    "    results = []\n",
    "    i = 1\n",
    "    for puzzle in puzzles:\n",
    "        output = run_clingo(puzzle)\n",
    "        stats = analyze_output(output)\n",
    "        difficulty = classify_puzzle(stats)\n",
    "        stats[\"difficulty\"] = difficulty\n",
    "        stats[\"puzzle\"] = puzzle\n",
    "        stats[\"size\"] = i\n",
    "        i += 1\n",
    "        results.append(stats)\n",
    "\n",
    "    return results"
   ]
  },
  {
   "cell_type": "code",
   "execution_count": 48,
   "metadata": {},
   "outputs": [
    {
     "name": "stdout",
     "output_type": "stream",
     "text": [
      "    time    rules  atoms difficulty         puzzle  size\n",
      "0  0.003      729    532  Very easy  param_gen1.db     1\n",
      "1  0.010     8292   1115  Very easy  param_gen2.db     2\n",
      "2  0.034    32950   2235  Very easy  param_gen3.db     3\n",
      "3  0.112    83118   3811  Very easy  param_gen4.db     4\n",
      "4  0.221   174716   5321       Easy  param_gen5.db     5\n",
      "5  0.332   310101   7491       Easy  param_gen6.db     6\n",
      "6  0.560   500880  10039     Medium  param_gen7.db     7\n",
      "7  0.931   750441  13235     Medium  param_gen8.db     8\n",
      "8  1.355  1087946  16311       Hard  param_gen9.db     9\n"
     ]
    }
   ],
   "source": [
    "puzzles = [\"param_gen1.db\", \"param_gen2.db\",\"param_gen3.db\", \"param_gen4.db\", \"param_gen5.db\",\n",
    "            \"param_gen6.db\", \"param_gen7.db\", \"param_gen8.db\",\n",
    "              \"param_gen9.db\"]\n",
    "puzzles_results = analyze_puzzles(puzzles)\n",
    "df = pd.DataFrame(puzzles_results)\n",
    "print(df)"
   ]
  },
  {
   "cell_type": "code",
   "execution_count": 49,
   "metadata": {},
   "outputs": [
    {
     "data": {
      "text/html": [
       "\n",
       "<style>\n",
       "  #altair-viz-c1c5ed8e622c47b78028837e5c28f011.vega-embed {\n",
       "    width: 100%;\n",
       "    display: flex;\n",
       "  }\n",
       "\n",
       "  #altair-viz-c1c5ed8e622c47b78028837e5c28f011.vega-embed details,\n",
       "  #altair-viz-c1c5ed8e622c47b78028837e5c28f011.vega-embed details summary {\n",
       "    position: relative;\n",
       "  }\n",
       "</style>\n",
       "<div id=\"altair-viz-c1c5ed8e622c47b78028837e5c28f011\"></div>\n",
       "<script type=\"text/javascript\">\n",
       "  var VEGA_DEBUG = (typeof VEGA_DEBUG == \"undefined\") ? {} : VEGA_DEBUG;\n",
       "  (function(spec, embedOpt){\n",
       "    let outputDiv = document.currentScript.previousElementSibling;\n",
       "    if (outputDiv.id !== \"altair-viz-c1c5ed8e622c47b78028837e5c28f011\") {\n",
       "      outputDiv = document.getElementById(\"altair-viz-c1c5ed8e622c47b78028837e5c28f011\");\n",
       "    }\n",
       "    const paths = {\n",
       "      \"vega\": \"https://cdn.jsdelivr.net/npm/vega@5?noext\",\n",
       "      \"vega-lib\": \"https://cdn.jsdelivr.net/npm/vega-lib?noext\",\n",
       "      \"vega-lite\": \"https://cdn.jsdelivr.net/npm/vega-lite@5.17.0?noext\",\n",
       "      \"vega-embed\": \"https://cdn.jsdelivr.net/npm/vega-embed@6?noext\",\n",
       "    };\n",
       "\n",
       "    function maybeLoadScript(lib, version) {\n",
       "      var key = `${lib.replace(\"-\", \"\")}_version`;\n",
       "      return (VEGA_DEBUG[key] == version) ?\n",
       "        Promise.resolve(paths[lib]) :\n",
       "        new Promise(function(resolve, reject) {\n",
       "          var s = document.createElement('script');\n",
       "          document.getElementsByTagName(\"head\")[0].appendChild(s);\n",
       "          s.async = true;\n",
       "          s.onload = () => {\n",
       "            VEGA_DEBUG[key] = version;\n",
       "            return resolve(paths[lib]);\n",
       "          };\n",
       "          s.onerror = () => reject(`Error loading script: ${paths[lib]}`);\n",
       "          s.src = paths[lib];\n",
       "        });\n",
       "    }\n",
       "\n",
       "    function showError(err) {\n",
       "      outputDiv.innerHTML = `<div class=\"error\" style=\"color:red;\">${err}</div>`;\n",
       "      throw err;\n",
       "    }\n",
       "\n",
       "    function displayChart(vegaEmbed) {\n",
       "      vegaEmbed(outputDiv, spec, embedOpt)\n",
       "        .catch(err => showError(`Javascript Error: ${err.message}<br>This usually means there's a typo in your chart specification. See the javascript console for the full traceback.`));\n",
       "    }\n",
       "\n",
       "    if(typeof define === \"function\" && define.amd) {\n",
       "      requirejs.config({paths});\n",
       "      require([\"vega-embed\"], displayChart, err => showError(`Error loading script: ${err.message}`));\n",
       "    } else {\n",
       "      maybeLoadScript(\"vega\", \"5\")\n",
       "        .then(() => maybeLoadScript(\"vega-lite\", \"5.17.0\"))\n",
       "        .then(() => maybeLoadScript(\"vega-embed\", \"6\"))\n",
       "        .catch(showError)\n",
       "        .then(() => displayChart(vegaEmbed));\n",
       "    }\n",
       "  })({\"config\": {\"view\": {\"continuousWidth\": 300, \"continuousHeight\": 300}}, \"data\": {\"name\": \"data-0f968e3f7b1f4f1c10dbbd4f5f4d9ae6\"}, \"mark\": {\"type\": \"line\"}, \"encoding\": {\"x\": {\"field\": \"size\", \"title\": \"Puzzle size\", \"type\": \"ordinal\"}, \"y\": {\"field\": \"time\", \"title\": \"Time taken (s)\", \"type\": \"quantitative\"}}, \"params\": [{\"name\": \"param_7\", \"select\": {\"type\": \"interval\", \"encodings\": [\"x\", \"y\"]}, \"bind\": \"scales\"}], \"title\": \"Time taken to solve puzzles\", \"$schema\": \"https://vega.github.io/schema/vega-lite/v5.17.0.json\", \"datasets\": {\"data-0f968e3f7b1f4f1c10dbbd4f5f4d9ae6\": [{\"time\": 0.003, \"rules\": 729, \"atoms\": 532, \"difficulty\": \"Very easy\", \"puzzle\": \"param_gen1.db\", \"size\": 1}, {\"time\": 0.01, \"rules\": 8292, \"atoms\": 1115, \"difficulty\": \"Very easy\", \"puzzle\": \"param_gen2.db\", \"size\": 2}, {\"time\": 0.034, \"rules\": 32950, \"atoms\": 2235, \"difficulty\": \"Very easy\", \"puzzle\": \"param_gen3.db\", \"size\": 3}, {\"time\": 0.112, \"rules\": 83118, \"atoms\": 3811, \"difficulty\": \"Very easy\", \"puzzle\": \"param_gen4.db\", \"size\": 4}, {\"time\": 0.221, \"rules\": 174716, \"atoms\": 5321, \"difficulty\": \"Easy\", \"puzzle\": \"param_gen5.db\", \"size\": 5}, {\"time\": 0.332, \"rules\": 310101, \"atoms\": 7491, \"difficulty\": \"Easy\", \"puzzle\": \"param_gen6.db\", \"size\": 6}, {\"time\": 0.56, \"rules\": 500880, \"atoms\": 10039, \"difficulty\": \"Medium\", \"puzzle\": \"param_gen7.db\", \"size\": 7}, {\"time\": 0.931, \"rules\": 750441, \"atoms\": 13235, \"difficulty\": \"Medium\", \"puzzle\": \"param_gen8.db\", \"size\": 8}, {\"time\": 1.355, \"rules\": 1087946, \"atoms\": 16311, \"difficulty\": \"Hard\", \"puzzle\": \"param_gen9.db\", \"size\": 9}]}}, {\"mode\": \"vega-lite\"});\n",
       "</script>"
      ],
      "text/plain": [
       "alt.Chart(...)"
      ]
     },
     "metadata": {},
     "output_type": "display_data"
    }
   ],
   "source": [
    "chart = alt.Chart(df).mark_line().encode(\n",
    "    alt.X('size', type='ordinal', title='Puzzle size'),\n",
    "    alt.Y('time', type='quantitative', title='Time taken (s)'),\n",
    ").properties(title='Time taken to solve puzzles').interactive()\n",
    "chart.show()"
   ]
  }
 ],
 "metadata": {
  "kernelspec": {
   "display_name": ".venv",
   "language": "python",
   "name": "python3"
  },
  "language_info": {
   "codemirror_mode": {
    "name": "ipython",
    "version": 3
   },
   "file_extension": ".py",
   "mimetype": "text/x-python",
   "name": "python",
   "nbconvert_exporter": "python",
   "pygments_lexer": "ipython3",
   "version": "3.12.3"
  }
 },
 "nbformat": 4,
 "nbformat_minor": 2
}
